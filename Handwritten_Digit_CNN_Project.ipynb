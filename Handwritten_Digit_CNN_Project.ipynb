{
  "nbformat": 4,
  "nbformat_minor": 0,
  "metadata": {
    "colab": {
      "provenance": [],
      "authorship_tag": "ABX9TyMH45WOUdBIEgXuSm9AFEb7",
      "include_colab_link": true
    },
    "kernelspec": {
      "name": "python3",
      "display_name": "Python 3"
    },
    "language_info": {
      "name": "python"
    }
  },
  "cells": [
    {
      "cell_type": "markdown",
      "metadata": {
        "id": "view-in-github",
        "colab_type": "text"
      },
      "source": [
        "<a href=\"https://colab.research.google.com/github/varmapriya/Deep-Learning/blob/main/Handwritten_Digit_CNN_Project.ipynb\" target=\"_parent\"><img src=\"https://colab.research.google.com/assets/colab-badge.svg\" alt=\"Open In Colab\"/></a>"
      ]
    },
    {
      "cell_type": "markdown",
      "source": [
        "# Handwritten Digit Classification Project - Priya Varma"
      ],
      "metadata": {
        "id": "vCSfzM-CteMJ"
      }
    },
    {
      "cell_type": "code",
      "execution_count": 1,
      "metadata": {
        "id": "HshXueodtOm_"
      },
      "outputs": [],
      "source": [
        "\n",
        "from warnings import filterwarnings\n",
        "filterwarnings('ignore')\n",
        ""
      ]
    },
    {
      "cell_type": "code",
      "source": [],
      "metadata": {
        "id": "6ENq6IBFtlYe"
      },
      "execution_count": null,
      "outputs": []
    }
  ]
}